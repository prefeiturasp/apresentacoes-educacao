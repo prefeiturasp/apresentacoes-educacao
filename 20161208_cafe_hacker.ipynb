{
 "cells": [
  {
   "cell_type": "markdown",
   "metadata": {
    "slideshow": {
     "slide_type": "slide"
    }
   },
   "source": [
    "<h1><center> Política de Transparência Ativa e Dados Abertos </center></h1>\n",
    "\n",
    "*****\n",
    "Coordenação de Controle Interno - COCIN\n",
    "\n",
    "Coordenação de Tecnologia da Informação e Comunicação - COTIC\n",
    "\n",
    "Centro de Informações Educacionais - CIEDU\n",
    "\n",
    "**Secretaria Municipal de Educação de São Paulo**"
   ]
  },
  {
   "cell_type": "markdown",
   "metadata": {
    "slideshow": {
     "slide_type": "slide"
    }
   },
   "source": [
    "## Política de Transparência Ativa e Dados Abertos\n",
    "\n",
    "<center><img src=\"20161208_cafe_hacker_img/portaria de dados abertos.png\"></center>\n",
    "[<center> Publicação no Diário Oficial da Cidade de São Paulo </center>](http://www.docidadesp.imprensaoficial.com.br/NavegaEdicao.aspx?ClipID=5B4FEKTOCHG37e2P3H1SI6T8258)"
   ]
  },
  {
   "cell_type": "markdown",
   "metadata": {
    "slideshow": {
     "slide_type": "subslide"
    }
   },
   "source": [
    "## Públicos\n",
    "\n",
    "+ Transparência ativa >> Informação / Análises / Relatórios / Consultas\n",
    "\n",
    "\n",
    "+ Dados abertos >> Inovação / Automação / Pesquisa"
   ]
  },
  {
   "cell_type": "markdown",
   "metadata": {
    "slideshow": {
     "slide_type": "subslide"
    }
   },
   "source": [
    "## Eixos\n",
    "\n",
    "<ul>\n",
    "    <li>Eixo 1   Acesso e Permanência<br/><br/></li>\n",
    "    <li>Eixo 2   Gestão democrática<br/><br/></li>\n",
    "    <li>Eixo 3   Financiamento<br/><br/></li>\n",
    "    <li>Eixo 4   Qualidade de educação<br/><br/></li>\n",
    "    <li>Eixo 5   Valorização dos profissionais da Educação</li>\n",
    "</ul>"
   ]
  },
  {
   "cell_type": "markdown",
   "metadata": {
    "slideshow": {
     "slide_type": "slide"
    }
   },
   "source": [
    "## Instrumentos da Política de Transparência Ativa e Dados Abertos\n",
    "\n",
    "+ Plano Anual de Tranparência Ativa e Dados Abertos\n",
    "\n",
    "+ Comitê técnico de implementação\n",
    "\n",
    "+ Portal de Dados Abertos da Prefeitura de São Paulo\n"
   ]
  },
  {
   "cell_type": "markdown",
   "metadata": {
    "slideshow": {
     "slide_type": "subslide"
    }
   },
   "source": [
    "### Estrutura do Plano\n",
    "\n",
    "<center><img src=\"20161208_cafe_hacker_img/ptda.png\"></center>\n",
    "<center> Plano de Transparência e Dados Abertos </center>\n",
    "<center> http://bitly.com/ptda-sme </center>\n",
    "\n"
   ]
  },
  {
   "cell_type": "markdown",
   "metadata": {
    "slideshow": {
     "slide_type": "subslide"
    }
   },
   "source": [
    "### Destaque de bases abertas\n",
    "\n",
    "+ Tipo de gestão da alimentação escolar por unidade educacional\n",
    "+ Série histórica (2006-2016) da demanda escolar na educação infantil e de jovens e adultos\n",
    "+ Série histórica (1996-2016) de dados gerais sobre educação na cidade\n",
    "+ Matrículas de estudantes estrangeiros\n",
    "+ Transporte escolar\n",
    "+ Dados desagregados da composição orçamentária e despesas  \n",
    "+ Valores transferidos por unidade educacional – PTRF\n",
    "+ Obras e reformas\n",
    "+ Convênios de educação infantil e entidade mantenedoras\n",
    "\n",
    "\n",
    "\n",
    "\n",
    "\n",
    "\n",
    "\n",
    "\n",
    "\n",
    "\n"
   ]
  },
  {
   "cell_type": "markdown",
   "metadata": {
    "slideshow": {
     "slide_type": "subslide"
    }
   },
   "source": [
    "<center><img src=\"20161208_cafe_hacker_img/portal de dados.png\"></center>"
   ]
  },
  {
   "cell_type": "markdown",
   "metadata": {
    "slideshow": {
     "slide_type": "subslide"
    }
   },
   "source": [
    "### Comitê técnico de implementação\n",
    "\n",
    "+ Coordenação de Controle Interno - COCIN\n",
    "\n",
    "\n",
    "+ Coordenação de Tecnologia da Informação e Comunicação - COTIC\n",
    "\n",
    "\n",
    "+ Centro de Informações Educacionais - CIEDU"
   ]
  },
  {
   "cell_type": "markdown",
   "metadata": {
    "slideshow": {
     "slide_type": "slide"
    }
   },
   "source": [
    "## Linha do tempo\n",
    "\n",
    "+ 1998 - Implantação do Escola Online - EOL\n",
    "\n",
    "+ 2009 - Número da educação\n",
    "\n",
    "+ 2013 - Implementacão do e-SIC\n",
    "\n",
    "+ 2014 - Implantação do Sistema de Gestão Pedagógica\n",
    "\n",
    "+ 2015 - Georreferenciamento da matrícula\n",
    "\n",
    "+ 2016 - Estruturação da COTIC e da COCIN\n",
    "\n",
    "+ 2016 - Política de Transparência Ativa e Dados Abertos"
   ]
  },
  {
   "cell_type": "markdown",
   "metadata": {
    "slideshow": {
     "slide_type": "slide"
    }
   },
   "source": [
    "## Formas de participação\n",
    "\n",
    "<ul>\n",
    "    <li>Consulta e priorização da Plano de Transparência Ativa e Dados Abertos<br/><br/></li>\n",
    "    <li>Sugestões de ações para colaboração<br/><br/></li>\n",
    "    <li>Encontros abertos<br/><br/></li>\n",
    "</ul>\n"
   ]
  },
  {
   "cell_type": "markdown",
   "metadata": {
    "slideshow": {
     "slide_type": "subslide"
    }
   },
   "source": [
    "<h1><center> Encontros abertos </center></h1>\n",
    "\n",
    "<center><img src=\"20161208_cafe_hacker_img/MeetUp.png\"></center>\n",
    "\n",
    "<center> https://www.meetup.com/Encontros-abertos-SME/ </center>\n",
    "\n"
   ]
  },
  {
   "cell_type": "markdown",
   "metadata": {
    "slideshow": {
     "slide_type": "slide"
    }
   },
   "source": [
    "<center><img src=\"20161208_cafe_hacker_img/cafe hacker.png\"><img src=\"20161208_cafe_hacker_img/educacao_horizontal.jpg\"></center>"
   ]
  }
 ],
 "metadata": {
  "anaconda-cloud": {},
  "celltoolbar": "Slideshow",
  "kernelspec": {
   "display_name": "Python [conda root]",
   "language": "python",
   "name": "conda-root-py"
  },
  "language_info": {
   "codemirror_mode": {
    "name": "ipython",
    "version": 3
   },
   "file_extension": ".py",
   "mimetype": "text/x-python",
   "name": "python",
   "nbconvert_exporter": "python",
   "pygments_lexer": "ipython3",
   "version": "3.5.2"
  }
 },
 "nbformat": 4,
 "nbformat_minor": 1
}
